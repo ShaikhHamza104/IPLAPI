{
 "cells": [
  {
   "cell_type": "code",
   "execution_count": 2,
   "metadata": {},
   "outputs": [],
   "source": [
    "import pandas as pd\n",
    "import numpy as np"
   ]
  },
  {
   "cell_type": "code",
   "execution_count": null,
   "metadata": {},
   "outputs": [],
   "source": []
  },
  {
   "cell_type": "code",
   "execution_count": 3,
   "metadata": {},
   "outputs": [],
   "source": [
    "df = pd.read_csv('dataset/matches_cleaned.csv')"
   ]
  },
  {
   "cell_type": "code",
   "execution_count": 4,
   "metadata": {},
   "outputs": [
    {
     "data": {
      "text/plain": [
       "{'Teams': ['Royal Challengers BangaloreKolkata Knight Riders',\n",
       "  'Kings XI PunjabChennai Super Kings',\n",
       "  'Delhi DaredevilsRajasthan Royals',\n",
       "  'Mumbai IndiansRoyal Challengers Bangalore',\n",
       "  'Kolkata Knight RidersDeccan Chargers',\n",
       "  'Rajasthan RoyalsKings XI Punjab',\n",
       "  'Deccan ChargersDelhi Daredevils',\n",
       "  'Chennai Super KingsMumbai Indians',\n",
       "  'Deccan ChargersRajasthan Royals',\n",
       "  'Kings XI PunjabMumbai Indians',\n",
       "  'Royal Challengers BangaloreRajasthan Royals',\n",
       "  'Chennai Super KingsKolkata Knight Riders',\n",
       "  'Mumbai IndiansDeccan Chargers',\n",
       "  'Kings XI PunjabDelhi Daredevils',\n",
       "  'Royal Challengers BangaloreChennai Super Kings',\n",
       "  'Kolkata Knight RidersMumbai Indians',\n",
       "  'Delhi DaredevilsRoyal Challengers Bangalore',\n",
       "  'Deccan ChargersKings XI Punjab',\n",
       "  'Rajasthan RoyalsKolkata Knight Riders',\n",
       "  'Chennai Super KingsDelhi Daredevils',\n",
       "  'Deccan ChargersRoyal Challengers Bangalore',\n",
       "  'Kings XI PunjabKolkata Knight Riders',\n",
       "  'Mumbai IndiansDelhi Daredevils',\n",
       "  'Rajasthan RoyalsChennai Super Kings',\n",
       "  'Royal Challengers BangaloreKings XI Punjab',\n",
       "  'Chennai Super KingsDeccan Chargers',\n",
       "  'Mumbai IndiansRajasthan Royals',\n",
       "  'Delhi DaredevilsChennai Super Kings',\n",
       "  'Kolkata Knight RidersRoyal Challengers Bangalore',\n",
       "  'Rajasthan RoyalsDeccan Chargers',\n",
       "  'Royal Challengers BangaloreMumbai Indians',\n",
       "  'Chennai Super KingsKings XI Punjab',\n",
       "  'Deccan ChargersKolkata Knight Riders',\n",
       "  'Rajasthan RoyalsDelhi Daredevils',\n",
       "  'Kings XI PunjabRoyal Challengers Bangalore',\n",
       "  'Kolkata Knight RidersDelhi Daredevils',\n",
       "  'Mumbai IndiansChennai Super Kings',\n",
       "  'Kings XI PunjabRajasthan Royals',\n",
       "  'Delhi DaredevilsDeccan Chargers',\n",
       "  'Mumbai IndiansKolkata Knight Riders',\n",
       "  'Delhi DaredevilsKings XI Punjab',\n",
       "  'Rajasthan RoyalsRoyal Challengers Bangalore',\n",
       "  'Deccan ChargersMumbai Indians',\n",
       "  'Kolkata Knight RidersChennai Super Kings',\n",
       "  'Royal Challengers BangaloreDelhi Daredevils',\n",
       "  'Kolkata Knight RidersRajasthan Royals',\n",
       "  'Mumbai IndiansKings XI Punjab',\n",
       "  'Chennai Super KingsRoyal Challengers Bangalore',\n",
       "  'Kings XI PunjabDeccan Chargers',\n",
       "  'Delhi DaredevilsMumbai Indians',\n",
       "  'Chennai Super KingsRajasthan Royals',\n",
       "  'Royal Challengers BangaloreDeccan Chargers',\n",
       "  'Kolkata Knight RidersKings XI Punjab',\n",
       "  'Rajasthan RoyalsMumbai Indians',\n",
       "  'Deccan ChargersChennai Super Kings',\n",
       "  'Delhi DaredevilsKolkata Knight Riders',\n",
       "  'Kochi Tuskers KeralaRoyal Challengers Bangalore',\n",
       "  'Pune WarriorsKings XI Punjab',\n",
       "  'Pune WarriorsKochi Tuskers Kerala',\n",
       "  'Mumbai IndiansKochi Tuskers Kerala',\n",
       "  'Pune WarriorsDelhi Daredevils',\n",
       "  'Kochi Tuskers KeralaChennai Super Kings',\n",
       "  'Mumbai IndiansPune Warriors',\n",
       "  'Kolkata Knight RidersKochi Tuskers Kerala',\n",
       "  'Rajasthan RoyalsKochi Tuskers Kerala',\n",
       "  'Chennai Super KingsPune Warriors',\n",
       "  'Pune WarriorsChennai Super Kings',\n",
       "  'Kochi Tuskers KeralaDeccan Chargers',\n",
       "  'Royal Challengers BangalorePune Warriors',\n",
       "  'Kochi Tuskers KeralaDelhi Daredevils',\n",
       "  'Rajasthan RoyalsPune Warriors',\n",
       "  'Delhi DaredevilsKochi Tuskers Kerala',\n",
       "  'Pune WarriorsMumbai Indians',\n",
       "  'Kochi Tuskers KeralaKolkata Knight Riders',\n",
       "  'Royal Challengers BangaloreKochi Tuskers Kerala',\n",
       "  'Kings XI PunjabPune Warriors',\n",
       "  'Deccan ChargersPune Warriors',\n",
       "  'Kochi Tuskers KeralaKings XI Punjab',\n",
       "  'Kochi Tuskers KeralaRajasthan Royals',\n",
       "  'Pune WarriorsDeccan Chargers',\n",
       "  'Chennai Super KingsKochi Tuskers Kerala',\n",
       "  'Pune WarriorsKolkata Knight Riders',\n",
       "  'Delhi DaredevilsPune Warriors',\n",
       "  'Kolkata Knight RidersPune Warriors',\n",
       "  'Pune WarriorsRajasthan Royals',\n",
       "  'Pune WarriorsRoyal Challengers Bangalore',\n",
       "  'Sunrisers HyderabadPune Warriors',\n",
       "  'Sunrisers HyderabadRoyal Challengers Bangalore',\n",
       "  'Delhi DaredevilsSunrisers Hyderabad',\n",
       "  'Kolkata Knight RidersSunrisers Hyderabad',\n",
       "  'Pune WarriorsSunrisers Hyderabad',\n",
       "  'Sunrisers HyderabadKings XI Punjab',\n",
       "  'Chennai Super KingsSunrisers Hyderabad',\n",
       "  'Rajasthan RoyalsSunrisers Hyderabad',\n",
       "  'Sunrisers HyderabadMumbai Indians',\n",
       "  'Sunrisers HyderabadDelhi Daredevils',\n",
       "  'Royal Challengers BangaloreSunrisers Hyderabad',\n",
       "  'Sunrisers HyderabadChennai Super Kings',\n",
       "  'Kings XI PunjabSunrisers Hyderabad',\n",
       "  'Mumbai IndiansSunrisers Hyderabad',\n",
       "  'Sunrisers HyderabadRajasthan Royals',\n",
       "  'Sunrisers HyderabadKolkata Knight Riders',\n",
       "  'Mumbai IndiansRising Pune Supergiants',\n",
       "  'Kings XI PunjabGujarat Lions',\n",
       "  'Gujarat LionsRising Pune Supergiants',\n",
       "  'Mumbai IndiansGujarat Lions',\n",
       "  'Kings XI PunjabRising Pune Supergiants',\n",
       "  'Gujarat LionsSunrisers Hyderabad',\n",
       "  'Rising Pune SupergiantsRoyal Challengers Bangalore',\n",
       "  'Gujarat LionsRoyal Challengers Bangalore',\n",
       "  'Rising Pune SupergiantsKolkata Knight Riders',\n",
       "  'Sunrisers HyderabadRising Pune Supergiants',\n",
       "  'Delhi DaredevilsGujarat Lions',\n",
       "  'Rising Pune SupergiantsGujarat Lions',\n",
       "  'Gujarat LionsKings XI Punjab',\n",
       "  'Rising Pune SupergiantsMumbai Indians',\n",
       "  'Gujarat LionsDelhi Daredevils',\n",
       "  'Delhi DaredevilsRising Pune Supergiants',\n",
       "  'Sunrisers HyderabadGujarat Lions',\n",
       "  'Royal Challengers BangaloreRising Pune Supergiants',\n",
       "  'Kolkata Knight RidersGujarat Lions',\n",
       "  'Rising Pune SupergiantsSunrisers Hyderabad',\n",
       "  'Royal Challengers BangaloreGujarat Lions',\n",
       "  'Kolkata Knight RidersRising Pune Supergiants',\n",
       "  'Rising Pune SupergiantsDelhi Daredevils',\n",
       "  'Gujarat LionsKolkata Knight Riders',\n",
       "  'Rising Pune SupergiantsKings XI Punjab',\n",
       "  'Gujarat LionsMumbai Indians',\n",
       "  'Rising Pune SupergiantMumbai Indians',\n",
       "  'Kings XI PunjabRising Pune Supergiant',\n",
       "  'Rising Pune SupergiantDelhi Daredevils',\n",
       "  'Gujarat LionsRising Pune Supergiant',\n",
       "  'Royal Challengers BangaloreRising Pune Supergiant',\n",
       "  'Rising Pune SupergiantSunrisers Hyderabad',\n",
       "  'Mumbai IndiansRising Pune Supergiant',\n",
       "  'Rising Pune SupergiantKolkata Knight Riders',\n",
       "  'Rising Pune SupergiantRoyal Challengers Bangalore',\n",
       "  'Rising Pune SupergiantGujarat Lions',\n",
       "  'Kolkata Knight RidersRising Pune Supergiant',\n",
       "  'Sunrisers HyderabadRising Pune Supergiant',\n",
       "  'Delhi DaredevilsRising Pune Supergiant',\n",
       "  'Rising Pune SupergiantKings XI Punjab',\n",
       "  'Mumbai IndiansDelhi Capitals',\n",
       "  'Delhi CapitalsChennai Super Kings',\n",
       "  'Delhi CapitalsKolkata Knight Riders',\n",
       "  'Kings XI PunjabDelhi Capitals',\n",
       "  'Delhi CapitalsSunrisers Hyderabad',\n",
       "  'Royal Challengers BangaloreDelhi Capitals',\n",
       "  'Kolkata Knight RidersDelhi Capitals',\n",
       "  'Sunrisers HyderabadDelhi Capitals',\n",
       "  'Delhi CapitalsMumbai Indians',\n",
       "  'Delhi CapitalsKings XI Punjab',\n",
       "  'Rajasthan RoyalsDelhi Capitals',\n",
       "  'Delhi CapitalsRoyal Challengers Bangalore',\n",
       "  'Chennai Super KingsDelhi Capitals',\n",
       "  'Delhi CapitalsRajasthan Royals']}"
      ]
     },
     "execution_count": 4,
     "metadata": {},
     "output_type": "execute_result"
    }
   ],
   "source": [
    "d = {}\n",
    "d['Teams'] = (df['team1']+df['team2']).unique().tolist()\n",
    "d"
   ]
  },
  {
   "cell_type": "code",
   "execution_count": null,
   "metadata": {},
   "outputs": [],
   "source": [
    "team1 = 'Royal Challengers Bangalore'\n",
    "team2 = 'Kolkata Knight Riders'\n",
    "teamvteam = df[(df['team1'] == team1) &(df['team2'] == team2)|(df['team1']==team2) & (df['team2']==team1)]\n",
    "total_matches = teamvteam.shape[0]"
   ]
  },
  {
   "cell_type": "code",
   "execution_count": 19,
   "metadata": {},
   "outputs": [
    {
     "data": {
      "text/plain": [
       "np.int64(0)"
      ]
     },
     "execution_count": 19,
     "metadata": {},
     "output_type": "execute_result"
    }
   ],
   "source": [
    "matches_won_team1 =teamvteam['winner'].value_counts()[team1]\n",
    "matches_won_team2 =teamvteam['winner'].value_counts()[team2]\n",
    "draw = total_matches - (matches_won_team1 + matches_won_team2)\n",
    "draw"
   ]
  },
  {
   "cell_type": "code",
   "execution_count": null,
   "metadata": {},
   "outputs": [],
   "source": []
  },
  {
   "cell_type": "code",
   "execution_count": 23,
   "metadata": {},
   "outputs": [
    {
     "data": {
      "text/plain": [
       "{'Total matches': 26,\n",
       " 'Royal Challengers Bangalore': np.int64(12),\n",
       " 'Kolkata Knight Riders': np.int64(14),\n",
       " 'Draw': np.int64(0)}"
      ]
     },
     "execution_count": 23,
     "metadata": {},
     "output_type": "execute_result"
    }
   ],
   "source": [
    "teamvteam('Royal Challengers Bangalore','Kolkata Knight Riders')"
   ]
  }
 ],
 "metadata": {
  "kernelspec": {
   "display_name": "venv",
   "language": "python",
   "name": "python3"
  },
  "language_info": {
   "codemirror_mode": {
    "name": "ipython",
    "version": 3
   },
   "file_extension": ".py",
   "mimetype": "text/x-python",
   "name": "python",
   "nbconvert_exporter": "python",
   "pygments_lexer": "ipython3",
   "version": "3.10.11"
  }
 },
 "nbformat": 4,
 "nbformat_minor": 2
}
